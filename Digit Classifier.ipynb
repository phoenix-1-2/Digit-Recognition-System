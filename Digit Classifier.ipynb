{
 "cells": [
  {
   "cell_type": "code",
   "execution_count": 214,
   "metadata": {},
   "outputs": [],
   "source": [
    "import pandas as pd\n",
    "import numpy as np\n",
    "import matplotlib.pyplot as plt\n",
    "import seaborn as sns\n",
    "from keras.utils import to_categorical\n",
    "from sklearn.model_selection import train_test_split\n",
    "from keras.models import Sequential\n",
    "from keras.layers import Dense,Flatten,Conv2D,MaxPooling2D,Dropout\n",
    "from keras.datasets import mnist"
   ]
  },
  {
   "cell_type": "code",
   "execution_count": 215,
   "metadata": {},
   "outputs": [],
   "source": [
    "data = mnist.load_data()"
   ]
  },
  {
   "cell_type": "code",
   "execution_count": 216,
   "metadata": {},
   "outputs": [],
   "source": [
    "target = data[0][1]"
   ]
  },
  {
   "cell_type": "code",
   "execution_count": 217,
   "metadata": {},
   "outputs": [
    {
     "data": {
      "text/plain": [
       "array([0, 1, 2, 3, 4, 5, 6, 7, 8, 9], dtype=uint8)"
      ]
     },
     "execution_count": 217,
     "metadata": {},
     "output_type": "execute_result"
    }
   ],
   "source": [
    "np.unique(target)"
   ]
  },
  {
   "cell_type": "code",
   "execution_count": 218,
   "metadata": {},
   "outputs": [],
   "source": [
    "X = data[0][0]"
   ]
  },
  {
   "cell_type": "code",
   "execution_count": 219,
   "metadata": {},
   "outputs": [],
   "source": [
    "X = X.reshape((60000,28,28,1))"
   ]
  },
  {
   "cell_type": "code",
   "execution_count": 220,
   "metadata": {},
   "outputs": [
    {
     "data": {
      "text/plain": [
       "(60000, 28, 28, 1)"
      ]
     },
     "execution_count": 220,
     "metadata": {},
     "output_type": "execute_result"
    }
   ],
   "source": [
    "X.shape"
   ]
  },
  {
   "cell_type": "code",
   "execution_count": 221,
   "metadata": {},
   "outputs": [],
   "source": [
    "X_train,X_test,Y_train,Y_test = train_test_split(X,target)"
   ]
  },
  {
   "cell_type": "code",
   "execution_count": 222,
   "metadata": {},
   "outputs": [
    {
     "data": {
      "image/png": "[encoded data removed]",
      "text/plain": [
       "<Figure size 432x288 with 1 Axes>"
      ]
     },
     "metadata": {
      "needs_background": "light"
     },
     "output_type": "display_data"
    }
   ],
   "source": [
    "plt.imshow(X_train[1].reshape(28,28) )\n",
    "plt.show()"
   ]
  },
  {
   "cell_type": "markdown",
   "metadata": {},
   "source": [
    "## 95.44 % "
   ]
  },
  {
   "cell_type": "code",
   "execution_count": 73,
   "metadata": {},
   "outputs": [],
   "source": [
    "model = Sequential()\n",
    "model.add( Conv2D(256,(7,7),activation = \"relu\",input_shape=(28,28,1) ) )\n",
    "model.add( MaxPooling2D((7,7)))\n",
    "model.add(Flatten())\n",
    "model.add( Dense(64,activation='sigmoid'   ))\n",
    "model.add( Dense(10,activation='softmax'))"
   ]
  },
  {
   "cell_type": "code",
   "execution_count": 74,
   "metadata": {},
   "outputs": [],
   "source": [
    "model.compile(optimizer='adam',loss='categorical_crossentropy',metrics=['accuracy'] )"
   ]
  },
  {
   "cell_type": "code",
   "execution_count": 75,
   "metadata": {},
   "outputs": [
    {
     "name": "stdout",
     "output_type": "stream",
     "text": [
      "Epoch 1/20\n",
      "450/450 [==============================] - 41s 91ms/step - loss: 1.3475 - accuracy: 0.7901\n",
      "Epoch 2/20\n",
      "450/450 [==============================] - 41s 91ms/step - loss: 0.5805 - accuracy: 0.9300\n",
      "Epoch 3/20\n",
      "450/450 [==============================] - 40s 90ms/step - loss: 0.3409 - accuracy: 0.9473\n",
      "Epoch 4/20\n",
      "450/450 [==============================] - 40s 90ms/step - loss: 0.2637 - accuracy: 0.9502\n",
      "Epoch 5/20\n",
      "450/450 [==============================] - 41s 90ms/step - loss: 0.2203 - accuracy: 0.9554\n",
      "Epoch 6/20\n",
      "450/450 [==============================] - 39s 87ms/step - loss: 0.1965 - accuracy: 0.9553\n",
      "Epoch 7/20\n",
      "450/450 [==============================] - 38s 85ms/step - loss: 0.1799 - accuracy: 0.9555\n",
      "Epoch 8/20\n",
      "450/450 [==============================] - 42s 94ms/step - loss: 0.1615 - accuracy: 0.9591\n",
      "Epoch 9/20\n",
      "450/450 [==============================] - 41s 92ms/step - loss: 0.1445 - accuracy: 0.9620\n",
      "Epoch 10/20\n",
      "450/450 [==============================] - 41s 91ms/step - loss: 0.1478 - accuracy: 0.9605\n",
      "Epoch 11/20\n",
      "450/450 [==============================] - 41s 91ms/step - loss: 0.1427 - accuracy: 0.9619\n",
      "Epoch 12/20\n",
      "450/450 [==============================] - 41s 91ms/step - loss: 0.1448 - accuracy: 0.9583\n",
      "Epoch 13/20\n",
      "450/450 [==============================] - 41s 90ms/step - loss: 0.1438 - accuracy: 0.9591\n",
      "Epoch 14/20\n",
      "450/450 [==============================] - 41s 91ms/step - loss: 0.1365 - accuracy: 0.9613\n",
      "Epoch 15/20\n",
      "450/450 [==============================] - 42s 93ms/step - loss: 0.1315 - accuracy: 0.9611\n",
      "Epoch 16/20\n",
      "450/450 [==============================] - 42s 94ms/step - loss: 0.1268 - accuracy: 0.9643\n",
      "Epoch 17/20\n",
      "450/450 [==============================] - 44s 98ms/step - loss: 0.1297 - accuracy: 0.9622\n",
      "Epoch 18/20\n",
      "450/450 [==============================] - 43s 95ms/step - loss: 0.1200 - accuracy: 0.9658\n",
      "Epoch 19/20\n",
      "450/450 [==============================] - 42s 93ms/step - loss: 0.1425 - accuracy: 0.9589\n",
      "Epoch 20/20\n",
      "450/450 [==============================] - 42s 93ms/step - loss: 0.1259 - accuracy: 0.9646\n"
     ]
    },
    {
     "data": {
      "text/plain": [
       "<tensorflow.python.keras.callbacks.History at 0x7f813372ce20>"
      ]
     },
     "execution_count": 75,
     "metadata": {},
     "output_type": "execute_result"
    }
   ],
   "source": [
    "model.fit(X_train, to_categorical(Y_train),epochs=20,batch_size=100)"
   ]
  },
  {
   "cell_type": "code",
   "execution_count": 76,
   "metadata": {},
   "outputs": [
    {
     "name": "stdout",
     "output_type": "stream",
     "text": [
      "WARNING:tensorflow:From <ipython-input-76-7c6f22e9b3b9>:1: Sequential.predict_classes (from tensorflow.python.keras.engine.sequential) is deprecated and will be removed after 2021-01-01.\n",
      "Instructions for updating:\n",
      "Please use instead:* `np.argmax(model.predict(x), axis=-1)`,   if your model does multi-class classification   (e.g. if it uses a `softmax` last-layer activation).* `(model.predict(x) > 0.5).astype(\"int32\")`,   if your model does binary classification   (e.g. if it uses a `sigmoid` last-layer activation).\n"
     ]
    }
   ],
   "source": [
    "Y_pred1 = model.predict_classes(X_test)"
   ]
  },
  {
   "cell_type": "code",
   "execution_count": 78,
   "metadata": {},
   "outputs": [
    {
     "name": "stdout",
     "output_type": "stream",
     "text": [
      "469/469 [==============================] - 5s 10ms/step - loss: 0.1477 - accuracy: 0.9544\n"
     ]
    },
    {
     "data": {
      "text/plain": [
       "[0.14768871665000916, 0.9544000029563904]"
      ]
     },
     "execution_count": 78,
     "metadata": {},
     "output_type": "execute_result"
    }
   ],
   "source": [
    "model.evaluate(X_test,to_categorical(Y_test) )"
   ]
  },
  {
   "cell_type": "markdown",
   "metadata": {},
   "source": [
    "# 98.6 % "
   ]
  },
  {
   "cell_type": "code",
   "execution_count": 226,
   "metadata": {},
   "outputs": [],
   "source": [
    "model = Sequential()\n",
    "model.add( Conv2D(40,(4,4),activation = \"sigmoid\",input_shape=(28,28,1) ) )\n",
    "model.add( MaxPooling2D((4,4)))\n",
    "model.add(Flatten())\n",
    "model.add( Dense(256,activation='sigmoid'   ))\n",
    "model.add( Dense(10,activation='softmax'))"
   ]
  },
  {
   "cell_type": "code",
   "execution_count": 227,
   "metadata": {},
   "outputs": [],
   "source": [
    "model.compile(optimizer='adam',loss='categorical_crossentropy',metrics=['accuracy'] )"
   ]
  },
  {
   "cell_type": "code",
   "execution_count": 228,
   "metadata": {
    "scrolled": true
   },
   "outputs": [
    {
     "name": "stdout",
     "output_type": "stream",
     "text": [
      "Epoch 1/20\n",
      "450/450 [==============================] - 13s 29ms/step - loss: 0.5062 - accuracy: 0.8673\n",
      "Epoch 2/20\n",
      "450/450 [==============================] - 13s 29ms/step - loss: 0.1314 - accuracy: 0.9634\n",
      "Epoch 3/20\n",
      "450/450 [==============================] - 13s 29ms/step - loss: 0.0925 - accuracy: 0.9731\n",
      "Epoch 4/20\n",
      "450/450 [==============================] - 13s 29ms/step - loss: 0.0738 - accuracy: 0.9779\n",
      "Epoch 5/20\n",
      "450/450 [==============================] - 13s 29ms/step - loss: 0.0657 - accuracy: 0.9795\n",
      "Epoch 6/20\n",
      "450/450 [==============================] - 13s 29ms/step - loss: 0.0564 - accuracy: 0.9831\n",
      "Epoch 7/20\n",
      "450/450 [==============================] - 13s 30ms/step - loss: 0.0488 - accuracy: 0.9845\n",
      "Epoch 8/20\n",
      "450/450 [==============================] - 13s 29ms/step - loss: 0.0428 - accuracy: 0.9870\n",
      "Epoch 9/20\n",
      "450/450 [==============================] - 13s 29ms/step - loss: 0.0368 - accuracy: 0.9889\n",
      "Epoch 10/20\n",
      "450/450 [==============================] - 13s 29ms/step - loss: 0.0335 - accuracy: 0.9892\n",
      "Epoch 11/20\n",
      "450/450 [==============================] - 14s 32ms/step - loss: 0.0292 - accuracy: 0.9911\n",
      "Epoch 12/20\n",
      "450/450 [==============================] - 15s 32ms/step - loss: 0.0265 - accuracy: 0.9918\n",
      "Epoch 13/20\n",
      "450/450 [==============================] - 13s 30ms/step - loss: 0.0252 - accuracy: 0.9923\n",
      "Epoch 14/20\n",
      "450/450 [==============================] - 14s 30ms/step - loss: 0.0196 - accuracy: 0.9942\n",
      "Epoch 15/20\n",
      "450/450 [==============================] - 14s 30ms/step - loss: 0.0175 - accuracy: 0.9942\n",
      "Epoch 16/20\n",
      "450/450 [==============================] - 15s 33ms/step - loss: 0.0150 - accuracy: 0.9958\n",
      "Epoch 17/20\n",
      "450/450 [==============================] - 15s 34ms/step - loss: 0.0152 - accuracy: 0.9952\n",
      "Epoch 18/20\n",
      "450/450 [==============================] - 14s 30ms/step - loss: 0.0139 - accuracy: 0.9960\n",
      "Epoch 19/20\n",
      "450/450 [==============================] - 14s 31ms/step - loss: 0.0106 - accuracy: 0.9969\n",
      "Epoch 20/20\n",
      "450/450 [==============================] - 14s 30ms/step - loss: 0.0107 - accuracy: 0.9968\n"
     ]
    },
    {
     "data": {
      "text/plain": [
       "<tensorflow.python.keras.callbacks.History at 0x7f8125719100>"
      ]
     },
     "execution_count": 228,
     "metadata": {},
     "output_type": "execute_result"
    }
   ],
   "source": [
    "model.fit(X_train, to_categorical(Y_train),epochs=20,batch_size=100)"
   ]
  },
  {
   "cell_type": "code",
   "execution_count": 229,
   "metadata": {},
   "outputs": [],
   "source": [
    "Y_pred2 = model.predict_classes(X_test)"
   ]
  },
  {
   "cell_type": "code",
   "execution_count": 233,
   "metadata": {},
   "outputs": [
    {
     "name": "stdout",
     "output_type": "stream",
     "text": [
      "469/469 [==============================] - 2s 3ms/step - loss: 0.0464 - accuracy: 0.9876\n"
     ]
    },
    {
     "data": {
      "text/plain": [
       "[0.046372588723897934, 0.9876000285148621]"
      ]
     },
     "execution_count": 233,
     "metadata": {},
     "output_type": "execute_result"
    }
   ],
   "source": [
    "model.evaluate(X_test,to_categorical(Y_test) )"
   ]
  },
  {
   "cell_type": "code",
   "execution_count": 232,
   "metadata": {},
   "outputs": [],
   "source": [
    "pd.DataFrame({\n",
    "    'Label':Y_pred2\n",
    "}).to_csv('Prediction.csv',index=False)"
   ]
  }
 ],
 "metadata": {
  "kernelspec": {
   "display_name": "Python 3",
   "language": "python",
   "name": "python3"
  },
  "language_info": {
   "codemirror_mode": {
    "name": "ipython",
    "version": 3
   },
   "file_extension": ".py",
   "mimetype": "text/x-python",
   "name": "python",
   "nbconvert_exporter": "python",
   "pygments_lexer": "ipython3",
   "version": "3.8.3"
  }
 },
 "nbformat": 4,
 "nbformat_minor": 4
}
